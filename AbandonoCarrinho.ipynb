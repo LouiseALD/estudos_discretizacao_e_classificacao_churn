{
  "cells": [
    {
      "cell_type": "markdown",
      "source": [
        "# DESAFIO"
      ],
      "metadata": {
        "nteract": {
          "transient": {
            "deleting": false
          }
        }
      }
    },
    {
      "cell_type": "markdown",
      "source": [
        "###### Como utilizar a discretização e a classificação da mesma forma em uma empresa ou indústria? Monte um exemplo utilizando o conhecimento abordado no estudo de caso proposto, lembrando que o objetivo é reutilizar o modelo de conhecimento adquirido.\n",
        "###### \n"
      ],
      "metadata": {
        "nteract": {
          "transient": {
            "deleting": false
          }
        }
      }
    },
    {
      "cell_type": "markdown",
      "source": [
        "#### Caso de uso\n",
        "#### \n",
        "###### Previsão de churn"
      ],
      "metadata": {
        "nteract": {
          "transient": {
            "deleting": false
          }
        }
      }
    },
    {
      "cell_type": "markdown",
      "source": [
        "## Prevenção de Abandono de Carrinho em E-commerce"
      ],
      "metadata": {
        "nteract": {
          "transient": {
            "deleting": false
          }
        }
      }
    },
    {
      "cell_type": "markdown",
      "source": [
        "Contexto:\n",
        "\n",
        "Em uma situação onde existe uma loja online que vende smartphones e quer prever quais clientes estão propensos a abandonar o carrinho de compras antes de concluir a compra. \n",
        "\n",
        "O que será feito:\n",
        "Usaremos técnicas de discretização para categorizar os dados dos clientes e algoritmos de classificação para prever o comportamento de compra."
      ],
      "metadata": {
        "nteract": {
          "transient": {
            "deleting": false
          }
        }
      }
    },
    {
      "cell_type": "code",
      "source": [
        "import pandas as pd\n",
        "import numpy as np\n",
        "from sklearn.model_selection import train_test_split, cross_val_score\n",
        "from sklearn.tree import DecisionTreeClassifier\n",
        "from sklearn.neural_network import MLPClassifier\n",
        "from sklearn.naive_bayes import GaussianNB\n",
        "from sklearn.metrics import accuracy_score"
      ],
      "outputs": [],
      "execution_count": null,
      "metadata": {
        "jupyter": {
          "source_hidden": false,
          "outputs_hidden": false
        },
        "nteract": {
          "transient": {
            "deleting": false
          }
        }
      }
    },
    {
      "cell_type": "markdown",
      "source": [
        "#### Simulação dos dados"
      ],
      "metadata": {
        "nteract": {
          "transient": {
            "deleting": false
          }
        }
      }
    },
    {
      "cell_type": "markdown",
      "source": [
        "Temos um conjunto de dados simulados contendo as seguintes informações: tempo gasto na página do produto, número de visitas ao site, quantidade de produtos no carrinho, histórico de compras, e número de abandonos anteriores."
      ],
      "metadata": {
        "nteract": {
          "transient": {
            "deleting": false
          }
        }
      }
    },
    {
      "cell_type": "code",
      "source": [
        "np.random.seed(42)\n",
        "data = {\n",
        "    'tempo_na_pagina': np.random.uniform(0.5, 10, 1000),  # tempo em minutos\n",
        "    'numero_visitas': np.random.randint(1, 20, 1000),\n",
        "    'qtd_produtos_carrinho': np.random.randint(1, 5, 1000),\n",
        "    'historico_compras': np.random.randint(0, 3, 1000),\n",
        "    'abandonos_previos': np.random.randint(0, 5, 1000)\n",
        "}\n",
        "df = pd.DataFrame(data)\n",
        "df"
      ],
      "outputs": [
        {
          "output_type": "execute_result",
          "execution_count": 3,
          "data": {
            "text/plain": "     tempo_na_pagina  numero_visitas  qtd_produtos_carrinho  \\\n0           4.058131              15                      2   \n1           9.531786              12                      1   \n2           7.453942              16                      4   \n3           6.187256              19                      4   \n4           1.982177               8                      3   \n..               ...             ...                    ...   \n995         1.370030               4                      3   \n996         9.214479              14                      4   \n997         1.799777               9                      2   \n998         9.527255               9                      1   \n999         4.737055              18                      4   \n\n     historico_compras  abandonos_previos  \n0                    0                  2  \n1                    2                  2  \n2                    1                  3  \n3                    2                  2  \n4                    1                  2  \n..                 ...                ...  \n995                  0                  0  \n996                  0                  3  \n997                  2                  0  \n998                  1                  4  \n999                  0                  0  \n\n[1000 rows x 5 columns]",
            "text/html": "<div>\n<style scoped>\n    .dataframe tbody tr th:only-of-type {\n        vertical-align: middle;\n    }\n\n    .dataframe tbody tr th {\n        vertical-align: top;\n    }\n\n    .dataframe thead th {\n        text-align: right;\n    }\n</style>\n<table border=\"1\" class=\"dataframe\">\n  <thead>\n    <tr style=\"text-align: right;\">\n      <th></th>\n      <th>tempo_na_pagina</th>\n      <th>numero_visitas</th>\n      <th>qtd_produtos_carrinho</th>\n      <th>historico_compras</th>\n      <th>abandonos_previos</th>\n    </tr>\n  </thead>\n  <tbody>\n    <tr>\n      <th>0</th>\n      <td>4.058131</td>\n      <td>15</td>\n      <td>2</td>\n      <td>0</td>\n      <td>2</td>\n    </tr>\n    <tr>\n      <th>1</th>\n      <td>9.531786</td>\n      <td>12</td>\n      <td>1</td>\n      <td>2</td>\n      <td>2</td>\n    </tr>\n    <tr>\n      <th>2</th>\n      <td>7.453942</td>\n      <td>16</td>\n      <td>4</td>\n      <td>1</td>\n      <td>3</td>\n    </tr>\n    <tr>\n      <th>3</th>\n      <td>6.187256</td>\n      <td>19</td>\n      <td>4</td>\n      <td>2</td>\n      <td>2</td>\n    </tr>\n    <tr>\n      <th>4</th>\n      <td>1.982177</td>\n      <td>8</td>\n      <td>3</td>\n      <td>1</td>\n      <td>2</td>\n    </tr>\n    <tr>\n      <th>...</th>\n      <td>...</td>\n      <td>...</td>\n      <td>...</td>\n      <td>...</td>\n      <td>...</td>\n    </tr>\n    <tr>\n      <th>995</th>\n      <td>1.370030</td>\n      <td>4</td>\n      <td>3</td>\n      <td>0</td>\n      <td>0</td>\n    </tr>\n    <tr>\n      <th>996</th>\n      <td>9.214479</td>\n      <td>14</td>\n      <td>4</td>\n      <td>0</td>\n      <td>3</td>\n    </tr>\n    <tr>\n      <th>997</th>\n      <td>1.799777</td>\n      <td>9</td>\n      <td>2</td>\n      <td>2</td>\n      <td>0</td>\n    </tr>\n    <tr>\n      <th>998</th>\n      <td>9.527255</td>\n      <td>9</td>\n      <td>1</td>\n      <td>1</td>\n      <td>4</td>\n    </tr>\n    <tr>\n      <th>999</th>\n      <td>4.737055</td>\n      <td>18</td>\n      <td>4</td>\n      <td>0</td>\n      <td>0</td>\n    </tr>\n  </tbody>\n</table>\n<p>1000 rows × 5 columns</p>\n</div>"
          },
          "metadata": {}
        }
      ],
      "execution_count": 3,
      "metadata": {
        "jupyter": {
          "source_hidden": false,
          "outputs_hidden": false
        },
        "nteract": {
          "transient": {
            "deleting": false
          }
        },
        "gather": {
          "logged": 1724102366433
        }
      }
    },
    {
      "cell_type": "markdown",
      "source": [
        "##### Discretização dos Dados\n",
        "####  "
      ],
      "metadata": {
        "nteract": {
          "transient": {
            "deleting": false
          }
        }
      }
    },
    {
      "cell_type": "markdown",
      "source": [
        "Definindo se o tempo da página foi considerado curto, médio ou longo, com base no tempo. Auxiliando na etapa da análise.\n",
        "\n",
        "- De 0 a 1 minuto é considerado \"Curto\".\n",
        "- De 1 a 3 minutos é considerado \"Médio\".\n",
        "- Mais de 3 minutos é considerado \"Longo\"."
      ],
      "metadata": {
        "nteract": {
          "transient": {
            "deleting": false
          }
        }
      }
    },
    {
      "cell_type": "code",
      "source": [
        "bins_tempo = [0, 1, 3, np.inf]\n",
        "labels_tempo = ['Curto', 'Médio', 'Longo']\n",
        "df['tempo_na_pagina_cat'] = pd.cut(df['tempo_na_pagina'], bins=bins_tempo, labels=labels_tempo)\n",
        "df"
      ],
      "outputs": [
        {
          "output_type": "execute_result",
          "execution_count": 4,
          "data": {
            "text/plain": "     tempo_na_pagina  numero_visitas  qtd_produtos_carrinho  \\\n0           4.058131              15                      2   \n1           9.531786              12                      1   \n2           7.453942              16                      4   \n3           6.187256              19                      4   \n4           1.982177               8                      3   \n..               ...             ...                    ...   \n995         1.370030               4                      3   \n996         9.214479              14                      4   \n997         1.799777               9                      2   \n998         9.527255               9                      1   \n999         4.737055              18                      4   \n\n     historico_compras  abandonos_previos tempo_na_pagina_cat  \n0                    0                  2               Longo  \n1                    2                  2               Longo  \n2                    1                  3               Longo  \n3                    2                  2               Longo  \n4                    1                  2               Médio  \n..                 ...                ...                 ...  \n995                  0                  0               Médio  \n996                  0                  3               Longo  \n997                  2                  0               Médio  \n998                  1                  4               Longo  \n999                  0                  0               Longo  \n\n[1000 rows x 6 columns]",
            "text/html": "<div>\n<style scoped>\n    .dataframe tbody tr th:only-of-type {\n        vertical-align: middle;\n    }\n\n    .dataframe tbody tr th {\n        vertical-align: top;\n    }\n\n    .dataframe thead th {\n        text-align: right;\n    }\n</style>\n<table border=\"1\" class=\"dataframe\">\n  <thead>\n    <tr style=\"text-align: right;\">\n      <th></th>\n      <th>tempo_na_pagina</th>\n      <th>numero_visitas</th>\n      <th>qtd_produtos_carrinho</th>\n      <th>historico_compras</th>\n      <th>abandonos_previos</th>\n      <th>tempo_na_pagina_cat</th>\n    </tr>\n  </thead>\n  <tbody>\n    <tr>\n      <th>0</th>\n      <td>4.058131</td>\n      <td>15</td>\n      <td>2</td>\n      <td>0</td>\n      <td>2</td>\n      <td>Longo</td>\n    </tr>\n    <tr>\n      <th>1</th>\n      <td>9.531786</td>\n      <td>12</td>\n      <td>1</td>\n      <td>2</td>\n      <td>2</td>\n      <td>Longo</td>\n    </tr>\n    <tr>\n      <th>2</th>\n      <td>7.453942</td>\n      <td>16</td>\n      <td>4</td>\n      <td>1</td>\n      <td>3</td>\n      <td>Longo</td>\n    </tr>\n    <tr>\n      <th>3</th>\n      <td>6.187256</td>\n      <td>19</td>\n      <td>4</td>\n      <td>2</td>\n      <td>2</td>\n      <td>Longo</td>\n    </tr>\n    <tr>\n      <th>4</th>\n      <td>1.982177</td>\n      <td>8</td>\n      <td>3</td>\n      <td>1</td>\n      <td>2</td>\n      <td>Médio</td>\n    </tr>\n    <tr>\n      <th>...</th>\n      <td>...</td>\n      <td>...</td>\n      <td>...</td>\n      <td>...</td>\n      <td>...</td>\n      <td>...</td>\n    </tr>\n    <tr>\n      <th>995</th>\n      <td>1.370030</td>\n      <td>4</td>\n      <td>3</td>\n      <td>0</td>\n      <td>0</td>\n      <td>Médio</td>\n    </tr>\n    <tr>\n      <th>996</th>\n      <td>9.214479</td>\n      <td>14</td>\n      <td>4</td>\n      <td>0</td>\n      <td>3</td>\n      <td>Longo</td>\n    </tr>\n    <tr>\n      <th>997</th>\n      <td>1.799777</td>\n      <td>9</td>\n      <td>2</td>\n      <td>2</td>\n      <td>0</td>\n      <td>Médio</td>\n    </tr>\n    <tr>\n      <th>998</th>\n      <td>9.527255</td>\n      <td>9</td>\n      <td>1</td>\n      <td>1</td>\n      <td>4</td>\n      <td>Longo</td>\n    </tr>\n    <tr>\n      <th>999</th>\n      <td>4.737055</td>\n      <td>18</td>\n      <td>4</td>\n      <td>0</td>\n      <td>0</td>\n      <td>Longo</td>\n    </tr>\n  </tbody>\n</table>\n<p>1000 rows × 6 columns</p>\n</div>"
          },
          "metadata": {}
        }
      ],
      "execution_count": 4,
      "metadata": {
        "jupyter": {
          "source_hidden": false,
          "outputs_hidden": false
        },
        "nteract": {
          "transient": {
            "deleting": false
          }
        },
        "gather": {
          "logged": 1724102466637
        }
      }
    },
    {
      "cell_type": "code",
      "source": [
        "\n",
        "bins_visitas = [0, 5, 15, np.inf]\n",
        "labels_visitas = ['Baixo', 'Médio', 'Alto']\n",
        "df['numero_visitas_cat'] = pd.cut(df['numero_visitas'], bins=bins_visitas, labels=labels_visitas)\n",
        "df"
      ],
      "outputs": [
        {
          "output_type": "execute_result",
          "execution_count": 6,
          "data": {
            "text/plain": "     tempo_na_pagina  numero_visitas  qtd_produtos_carrinho  \\\n0           4.058131              15                      2   \n1           9.531786              12                      1   \n2           7.453942              16                      4   \n3           6.187256              19                      4   \n4           1.982177               8                      3   \n..               ...             ...                    ...   \n995         1.370030               4                      3   \n996         9.214479              14                      4   \n997         1.799777               9                      2   \n998         9.527255               9                      1   \n999         4.737055              18                      4   \n\n     historico_compras  abandonos_previos tempo_na_pagina_cat  \\\n0                    0                  2               Longo   \n1                    2                  2               Longo   \n2                    1                  3               Longo   \n3                    2                  2               Longo   \n4                    1                  2               Médio   \n..                 ...                ...                 ...   \n995                  0                  0               Médio   \n996                  0                  3               Longo   \n997                  2                  0               Médio   \n998                  1                  4               Longo   \n999                  0                  0               Longo   \n\n    numero_visitas_cat  \n0                Médio  \n1                Médio  \n2                 Alto  \n3                 Alto  \n4                Médio  \n..                 ...  \n995              Baixo  \n996              Médio  \n997              Médio  \n998              Médio  \n999               Alto  \n\n[1000 rows x 7 columns]",
            "text/html": "<div>\n<style scoped>\n    .dataframe tbody tr th:only-of-type {\n        vertical-align: middle;\n    }\n\n    .dataframe tbody tr th {\n        vertical-align: top;\n    }\n\n    .dataframe thead th {\n        text-align: right;\n    }\n</style>\n<table border=\"1\" class=\"dataframe\">\n  <thead>\n    <tr style=\"text-align: right;\">\n      <th></th>\n      <th>tempo_na_pagina</th>\n      <th>numero_visitas</th>\n      <th>qtd_produtos_carrinho</th>\n      <th>historico_compras</th>\n      <th>abandonos_previos</th>\n      <th>tempo_na_pagina_cat</th>\n      <th>numero_visitas_cat</th>\n    </tr>\n  </thead>\n  <tbody>\n    <tr>\n      <th>0</th>\n      <td>4.058131</td>\n      <td>15</td>\n      <td>2</td>\n      <td>0</td>\n      <td>2</td>\n      <td>Longo</td>\n      <td>Médio</td>\n    </tr>\n    <tr>\n      <th>1</th>\n      <td>9.531786</td>\n      <td>12</td>\n      <td>1</td>\n      <td>2</td>\n      <td>2</td>\n      <td>Longo</td>\n      <td>Médio</td>\n    </tr>\n    <tr>\n      <th>2</th>\n      <td>7.453942</td>\n      <td>16</td>\n      <td>4</td>\n      <td>1</td>\n      <td>3</td>\n      <td>Longo</td>\n      <td>Alto</td>\n    </tr>\n    <tr>\n      <th>3</th>\n      <td>6.187256</td>\n      <td>19</td>\n      <td>4</td>\n      <td>2</td>\n      <td>2</td>\n      <td>Longo</td>\n      <td>Alto</td>\n    </tr>\n    <tr>\n      <th>4</th>\n      <td>1.982177</td>\n      <td>8</td>\n      <td>3</td>\n      <td>1</td>\n      <td>2</td>\n      <td>Médio</td>\n      <td>Médio</td>\n    </tr>\n    <tr>\n      <th>...</th>\n      <td>...</td>\n      <td>...</td>\n      <td>...</td>\n      <td>...</td>\n      <td>...</td>\n      <td>...</td>\n      <td>...</td>\n    </tr>\n    <tr>\n      <th>995</th>\n      <td>1.370030</td>\n      <td>4</td>\n      <td>3</td>\n      <td>0</td>\n      <td>0</td>\n      <td>Médio</td>\n      <td>Baixo</td>\n    </tr>\n    <tr>\n      <th>996</th>\n      <td>9.214479</td>\n      <td>14</td>\n      <td>4</td>\n      <td>0</td>\n      <td>3</td>\n      <td>Longo</td>\n      <td>Médio</td>\n    </tr>\n    <tr>\n      <th>997</th>\n      <td>1.799777</td>\n      <td>9</td>\n      <td>2</td>\n      <td>2</td>\n      <td>0</td>\n      <td>Médio</td>\n      <td>Médio</td>\n    </tr>\n    <tr>\n      <th>998</th>\n      <td>9.527255</td>\n      <td>9</td>\n      <td>1</td>\n      <td>1</td>\n      <td>4</td>\n      <td>Longo</td>\n      <td>Médio</td>\n    </tr>\n    <tr>\n      <th>999</th>\n      <td>4.737055</td>\n      <td>18</td>\n      <td>4</td>\n      <td>0</td>\n      <td>0</td>\n      <td>Longo</td>\n      <td>Alto</td>\n    </tr>\n  </tbody>\n</table>\n<p>1000 rows × 7 columns</p>\n</div>"
          },
          "metadata": {}
        }
      ],
      "execution_count": 6,
      "metadata": {
        "jupyter": {
          "source_hidden": false,
          "outputs_hidden": false
        },
        "nteract": {
          "transient": {
            "deleting": false
          }
        },
        "gather": {
          "logged": 1724102659783
        }
      }
    },
    {
      "cell_type": "markdown",
      "source": [
        "#### Contagem de churn (evasão prévia)"
      ],
      "metadata": {
        "nteract": {
          "transient": {
            "deleting": false
          }
        }
      }
    },
    {
      "cell_type": "markdown",
      "source": [
        "Churn é um conceito fundamental em retenção de clientes e é usado para medir a perda de clientes. Ao prever o churn, as empresas podem agir proativamente para reduzir a perda de clientes, aumentando a retenção e, consequentemente, a receita e a sustentabilidade do negócio."
      ],
      "metadata": {
        "nteract": {
          "transient": {
            "deleting": false
          }
        }
      }
    },
    {
      "cell_type": "code",
      "source": [
        "df['churn'] = np.where(df['abandonos_previos'] > 2, 1, 0)\n",
        "df"
      ],
      "outputs": [
        {
          "output_type": "execute_result",
          "execution_count": 8,
          "data": {
            "text/plain": "     tempo_na_pagina  numero_visitas  qtd_produtos_carrinho  \\\n0           4.058131              15                      2   \n1           9.531786              12                      1   \n2           7.453942              16                      4   \n3           6.187256              19                      4   \n4           1.982177               8                      3   \n..               ...             ...                    ...   \n995         1.370030               4                      3   \n996         9.214479              14                      4   \n997         1.799777               9                      2   \n998         9.527255               9                      1   \n999         4.737055              18                      4   \n\n     historico_compras  abandonos_previos tempo_na_pagina_cat  \\\n0                    0                  2               Longo   \n1                    2                  2               Longo   \n2                    1                  3               Longo   \n3                    2                  2               Longo   \n4                    1                  2               Médio   \n..                 ...                ...                 ...   \n995                  0                  0               Médio   \n996                  0                  3               Longo   \n997                  2                  0               Médio   \n998                  1                  4               Longo   \n999                  0                  0               Longo   \n\n    numero_visitas_cat  churn  \n0                Médio      0  \n1                Médio      0  \n2                 Alto      1  \n3                 Alto      0  \n4                Médio      0  \n..                 ...    ...  \n995              Baixo      0  \n996              Médio      1  \n997              Médio      0  \n998              Médio      1  \n999               Alto      0  \n\n[1000 rows x 8 columns]",
            "text/html": "<div>\n<style scoped>\n    .dataframe tbody tr th:only-of-type {\n        vertical-align: middle;\n    }\n\n    .dataframe tbody tr th {\n        vertical-align: top;\n    }\n\n    .dataframe thead th {\n        text-align: right;\n    }\n</style>\n<table border=\"1\" class=\"dataframe\">\n  <thead>\n    <tr style=\"text-align: right;\">\n      <th></th>\n      <th>tempo_na_pagina</th>\n      <th>numero_visitas</th>\n      <th>qtd_produtos_carrinho</th>\n      <th>historico_compras</th>\n      <th>abandonos_previos</th>\n      <th>tempo_na_pagina_cat</th>\n      <th>numero_visitas_cat</th>\n      <th>churn</th>\n    </tr>\n  </thead>\n  <tbody>\n    <tr>\n      <th>0</th>\n      <td>4.058131</td>\n      <td>15</td>\n      <td>2</td>\n      <td>0</td>\n      <td>2</td>\n      <td>Longo</td>\n      <td>Médio</td>\n      <td>0</td>\n    </tr>\n    <tr>\n      <th>1</th>\n      <td>9.531786</td>\n      <td>12</td>\n      <td>1</td>\n      <td>2</td>\n      <td>2</td>\n      <td>Longo</td>\n      <td>Médio</td>\n      <td>0</td>\n    </tr>\n    <tr>\n      <th>2</th>\n      <td>7.453942</td>\n      <td>16</td>\n      <td>4</td>\n      <td>1</td>\n      <td>3</td>\n      <td>Longo</td>\n      <td>Alto</td>\n      <td>1</td>\n    </tr>\n    <tr>\n      <th>3</th>\n      <td>6.187256</td>\n      <td>19</td>\n      <td>4</td>\n      <td>2</td>\n      <td>2</td>\n      <td>Longo</td>\n      <td>Alto</td>\n      <td>0</td>\n    </tr>\n    <tr>\n      <th>4</th>\n      <td>1.982177</td>\n      <td>8</td>\n      <td>3</td>\n      <td>1</td>\n      <td>2</td>\n      <td>Médio</td>\n      <td>Médio</td>\n      <td>0</td>\n    </tr>\n    <tr>\n      <th>...</th>\n      <td>...</td>\n      <td>...</td>\n      <td>...</td>\n      <td>...</td>\n      <td>...</td>\n      <td>...</td>\n      <td>...</td>\n      <td>...</td>\n    </tr>\n    <tr>\n      <th>995</th>\n      <td>1.370030</td>\n      <td>4</td>\n      <td>3</td>\n      <td>0</td>\n      <td>0</td>\n      <td>Médio</td>\n      <td>Baixo</td>\n      <td>0</td>\n    </tr>\n    <tr>\n      <th>996</th>\n      <td>9.214479</td>\n      <td>14</td>\n      <td>4</td>\n      <td>0</td>\n      <td>3</td>\n      <td>Longo</td>\n      <td>Médio</td>\n      <td>1</td>\n    </tr>\n    <tr>\n      <th>997</th>\n      <td>1.799777</td>\n      <td>9</td>\n      <td>2</td>\n      <td>2</td>\n      <td>0</td>\n      <td>Médio</td>\n      <td>Médio</td>\n      <td>0</td>\n    </tr>\n    <tr>\n      <th>998</th>\n      <td>9.527255</td>\n      <td>9</td>\n      <td>1</td>\n      <td>1</td>\n      <td>4</td>\n      <td>Longo</td>\n      <td>Médio</td>\n      <td>1</td>\n    </tr>\n    <tr>\n      <th>999</th>\n      <td>4.737055</td>\n      <td>18</td>\n      <td>4</td>\n      <td>0</td>\n      <td>0</td>\n      <td>Longo</td>\n      <td>Alto</td>\n      <td>0</td>\n    </tr>\n  </tbody>\n</table>\n<p>1000 rows × 8 columns</p>\n</div>"
          },
          "metadata": {}
        }
      ],
      "execution_count": 8,
      "metadata": {
        "jupyter": {
          "source_hidden": false,
          "outputs_hidden": false
        },
        "nteract": {
          "transient": {
            "deleting": false
          }
        },
        "gather": {
          "logged": 1724102693659
        }
      }
    },
    {
      "cell_type": "markdown",
      "source": [
        "#### Seleção das features"
      ],
      "metadata": {
        "nteract": {
          "transient": {
            "deleting": false
          }
        }
      }
    },
    {
      "cell_type": "markdown",
      "source": [
        "- Essa função é usada para converter variáveis categóricas em variáveis dummy ou variáveis indicadoras.\n",
        "- Em vez de manter uma variável categórica com valores como \"Curto\", \"Médio\", \"Longo\", get_dummies cria uma nova coluna para cada categoria, onde os valores são 0 ou 1. Por exemplo, a coluna \"tempo_na_pagina_cat\" que tem três categorias (\"Curto\", \"Médio\", \"Longo\") se torna três colunas: \"tempo_na_pagina_cat_Médio\", \"tempo_na_pagina_cat_Longo\", e \"tempo_na_pagina_cat_Curto\". Cada uma dessas colunas terá 1 ou 0, indicando se essa categoria é aplicável a uma linha específica."
      ],
      "metadata": {
        "nteract": {
          "transient": {
            "deleting": false
          }
        }
      }
    },
    {
      "cell_type": "code",
      "source": [
        "X = pd.get_dummies(df[['tempo_na_pagina_cat', 'numero_visitas_cat', 'qtd_produtos_carrinho', 'historico_compras']], drop_first=True)\n",
        "y = df['churn']"
      ],
      "outputs": [],
      "execution_count": 15,
      "metadata": {
        "jupyter": {
          "source_hidden": false,
          "outputs_hidden": false
        },
        "nteract": {
          "transient": {
            "deleting": false
          }
        },
        "gather": {
          "logged": 1724103139213
        }
      }
    },
    {
      "cell_type": "markdown",
      "source": [
        "#### Divisão dos dados em treinamento e teste"
      ],
      "metadata": {
        "nteract": {
          "transient": {
            "deleting": false
          }
        }
      }
    },
    {
      "cell_type": "code",
      "source": [
        "X_train, X_test, y_train, y_test = train_test_split(X, y, test_size=0.3, random_state=42)\n"
      ],
      "outputs": [],
      "execution_count": null,
      "metadata": {
        "jupyter": {
          "source_hidden": false,
          "outputs_hidden": false
        },
        "nteract": {
          "transient": {
            "deleting": false
          }
        }
      }
    },
    {
      "cell_type": "markdown",
      "source": [
        "#### Inicialização dos modelos"
      ],
      "metadata": {
        "nteract": {
          "transient": {
            "deleting": false
          }
        }
      }
    },
    {
      "cell_type": "code",
      "source": [
        "models = {\n",
        "    \"Árvore de Decisão\": DecisionTreeClassifier(random_state=42),\n",
        "    \"Rede Neural MLP\": MLPClassifier(max_iter=300, random_state=42),\n",
        "    \"Naive Bayes\": GaussianNB()\n",
        "}\n",
        "\n",
        "# Treinamento e Avaliação dos Modelos\n",
        "results = []\n",
        "\n",
        "for model_name, model in models.items():\n",
        "    # Treinamento do modelo\n",
        "    model.fit(X_train, y_train)\n",
        "    \n",
        "    # Previsão\n",
        "    y_pred = model.predict(X_test)\n",
        "    \n",
        "    # Acurácia\n",
        "    accuracy = accuracy_score(y_test, y_pred)\n",
        "    \n",
        "    # Validação Cruzada 10-fold\n",
        "    cross_val_accuracy = cross_val_score(model, X, y, cv=10).mean()\n",
        "    \n",
        "    # Coleta de resultados\n",
        "    results.append({\n",
        "        \"Modelo\": model_name,\n",
        "        \"Acurácia (%)\": round(accuracy * 100, 2),\n",
        "        \"Validação Cruzada (10-fold)\": round(cross_val_accuracy * 100, 2)\n",
        "    })"
      ],
      "outputs": [
        {
          "output_type": "stream",
          "name": "stderr",
          "text": "/anaconda/envs/azureml_py310_sdkv2/lib/python3.10/site-packages/sklearn/neural_network/_multilayer_perceptron.py:691: ConvergenceWarning: Stochastic Optimizer: Maximum iterations (300) reached and the optimization hasn't converged yet.\n  warnings.warn(\n/anaconda/envs/azureml_py310_sdkv2/lib/python3.10/site-packages/sklearn/neural_network/_multilayer_perceptron.py:691: ConvergenceWarning: Stochastic Optimizer: Maximum iterations (300) reached and the optimization hasn't converged yet.\n  warnings.warn(\n"
        }
      ],
      "execution_count": 20,
      "metadata": {
        "jupyter": {
          "source_hidden": false,
          "outputs_hidden": false
        },
        "nteract": {
          "transient": {
            "deleting": false
          }
        },
        "gather": {
          "logged": 1724103406097
        }
      }
    },
    {
      "cell_type": "markdown",
      "source": [
        "#### Data frame que irá exibir os resultados"
      ],
      "metadata": {
        "nteract": {
          "transient": {
            "deleting": false
          }
        }
      }
    },
    {
      "cell_type": "code",
      "source": [
        "# Criar um DataFrame para exibir os resultados\n",
        "df_results = pd.DataFrame(results)\n",
        "df_results"
      ],
      "outputs": [
        {
          "output_type": "execute_result",
          "execution_count": 21,
          "data": {
            "text/plain": "              Modelo  Acurácia (%)  Validação Cruzada (10-fold)\n0  Árvore de Decisão         53.33                         58.8\n1    Rede Neural MLP         53.33                         59.0\n2        Naive Bayes         60.00                         60.7",
            "text/html": "<div>\n<style scoped>\n    .dataframe tbody tr th:only-of-type {\n        vertical-align: middle;\n    }\n\n    .dataframe tbody tr th {\n        vertical-align: top;\n    }\n\n    .dataframe thead th {\n        text-align: right;\n    }\n</style>\n<table border=\"1\" class=\"dataframe\">\n  <thead>\n    <tr style=\"text-align: right;\">\n      <th></th>\n      <th>Modelo</th>\n      <th>Acurácia (%)</th>\n      <th>Validação Cruzada (10-fold)</th>\n    </tr>\n  </thead>\n  <tbody>\n    <tr>\n      <th>0</th>\n      <td>Árvore de Decisão</td>\n      <td>53.33</td>\n      <td>58.8</td>\n    </tr>\n    <tr>\n      <th>1</th>\n      <td>Rede Neural MLP</td>\n      <td>53.33</td>\n      <td>59.0</td>\n    </tr>\n    <tr>\n      <th>2</th>\n      <td>Naive Bayes</td>\n      <td>60.00</td>\n      <td>60.7</td>\n    </tr>\n  </tbody>\n</table>\n</div>"
          },
          "metadata": {}
        }
      ],
      "execution_count": 21,
      "metadata": {
        "jupyter": {
          "source_hidden": false,
          "outputs_hidden": false
        },
        "nteract": {
          "transient": {
            "deleting": false
          }
        },
        "gather": {
          "logged": 1724103408675
        }
      }
    },
    {
      "cell_type": "markdown",
      "source": [
        "#### Resultados"
      ],
      "metadata": {
        "nteract": {
          "transient": {
            "deleting": false
          }
        }
      }
    },
    {
      "cell_type": "markdown",
      "source": [
        "**Árvore de Decisão:**\n",
        "\n",
        "- Acurácia: 53.33% — Isso significa que o modelo previu corretamente cerca de 53.33% das vezes no conjunto de teste.\n",
        "- Validação Cruzada (10-fold): 58.8% — A validação cruzada sugere que, em média, o modelo teve um desempenho de 58.8% de acurácia em diferentes subconjuntos dos dados.\n",
        "\n",
        "Interpretação: A Árvore de Decisão teve um desempenho modesto, sugerindo que o modelo pode estar tendo dificuldades para capturar os padrões complexos nos dados.\n",
        "\n",
        "**Rede Neural MLP:**\n",
        "\n",
        "- Acurácia: 53.33% — Igual à Árvore de Decisão, indicando que, no conjunto de teste, a Rede Neural MLP também não conseguiu superar este limite.\n",
        "- Validação Cruzada (10-fold): 59.0% — A validação cruzada sugere uma ligeira melhora em relação à Árvore de Decisão, mas ainda é baixa.\n",
        "\n",
        "Interpretação: Embora a Rede Neural MLP tenha um potencial para capturar padrões complexos, esses resultados indicam os dados disponíveis não são ideais para esse tipo de modelo.\n",
        "\n",
        "**Naive Bayes:**\n",
        "\n",
        "- Acurácia: 60.00% — O Naive Bayes teve o melhor desempenho em termos de acurácia, prevendo corretamente 60% dos casos no conjunto de teste.\n",
        "- Validação Cruzada (10-fold): 60.7% — Isso indica uma consistência decente na generalização dos dados e sugere que o Naive Bayes está se saindo melhor que os outros modelos nesta tarefa específica.\n",
        "\n",
        "Interpretação: O Naive Bayes, sendo um modelo mais simples e probabilístico, conseguiu captar padrões nos dados de maneira mais eficaz que os outros dois modelos. Isso pode indicar que os dados são adequados para um modelo mais linear ou que as suposições simplificadas do Naive Bayes funcionam bem com esse conjunto de dados."
      ],
      "metadata": {
        "nteract": {
          "transient": {
            "deleting": false
          }
        }
      }
    }
  ],
  "metadata": {
    "kernelspec": {
      "name": "python310-sdkv2",
      "language": "python",
      "display_name": "Python 3.10 - SDK v2"
    },
    "language_info": {
      "name": "python",
      "version": "3.10.11",
      "mimetype": "text/x-python",
      "codemirror_mode": {
        "name": "ipython",
        "version": 3
      },
      "pygments_lexer": "ipython3",
      "nbconvert_exporter": "python",
      "file_extension": ".py"
    },
    "kernel_info": {
      "name": "python310-sdkv2"
    },
    "nteract": {
      "version": "nteract-front-end@1.0.0"
    }
  },
  "nbformat": 4,
  "nbformat_minor": 2
}